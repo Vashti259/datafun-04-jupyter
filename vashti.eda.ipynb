{
 "cells": [
  {
   "cell_type": "markdown",
   "id": "27a2df22",
   "metadata": {},
   "source": [
    "## This  Project  was created in datafun-04-Jupyter EDA Notebook, The author is Vashti, the purpose of the project isProject 4 uses a combination of Python and Markdown\n",
    "to create an initial data story in a Jupyter Notebook.\n",
    "The project includes a project virtual environment with\n",
    "popular libraries for data analytics including pandas, matplotlib, and seaborn,\n",
    "and introduces a common process for starting exploratory data analysis projects.\n"
   ]
  },
  {
   "cell_type": "code",
   "execution_count": 5,
   "id": "7181566b",
   "metadata": {},
   "outputs": [],
   "source": [
    "###import depencies"
   ]
  },
  {
   "cell_type": "code",
   "execution_count": 6,
   "id": "e393f3c5",
   "metadata": {},
   "outputs": [],
   "source": [
    "\n",
    "x=[1,2,3,4,5,6,7,8]\n",
    "y=[2,4,6,8,10,12,14,16]\n"
   ]
  },
  {
   "cell_type": "code",
   "execution_count": 7,
   "id": "797cad25",
   "metadata": {},
   "outputs": [
    {
     "data": {
      "text/plain": [
       "125"
      ]
     },
     "execution_count": 7,
     "metadata": {},
     "output_type": "execute_result"
    }
   ],
   "source": [
    "50+75"
   ]
  },
  {
   "cell_type": "code",
   "execution_count": 8,
   "id": "1fd27c38",
   "metadata": {},
   "outputs": [
    {
     "data": {
      "text/plain": [
       "90"
      ]
     },
     "execution_count": 8,
     "metadata": {},
     "output_type": "execute_result"
    }
   ],
   "source": [
    "10* (5+4)"
   ]
  },
  {
   "cell_type": "code",
   "execution_count": 9,
   "id": "4ffef779",
   "metadata": {},
   "outputs": [
    {
     "data": {
      "text/plain": [
       "25"
      ]
     },
     "execution_count": 9,
     "metadata": {},
     "output_type": "execute_result"
    }
   ],
   "source": [
    "3* 5+10"
   ]
  },
  {
   "cell_type": "code",
   "execution_count": 10,
   "id": "5a07f876",
   "metadata": {},
   "outputs": [
    {
     "data": {
      "text/plain": [
       "6.699999999999999"
      ]
     },
     "execution_count": 10,
     "metadata": {},
     "output_type": "execute_result"
    }
   ],
   "source": [
    "2* (12.7 -6) /2"
   ]
  },
  {
   "cell_type": "code",
   "execution_count": 11,
   "id": "d777ff9e",
   "metadata": {},
   "outputs": [
    {
     "data": {
      "text/plain": [
       "1775"
      ]
     },
     "execution_count": 11,
     "metadata": {},
     "output_type": "execute_result"
    }
   ],
   "source": [
    "355 * 5"
   ]
  },
  {
   "cell_type": "code",
   "execution_count": null,
   "id": "4a6d1ede",
   "metadata": {},
   "outputs": [],
   "source": []
  }
 ],
 "metadata": {
  "kernelspec": {
   "display_name": "Python 3 (ipykernel)",
   "language": "python",
   "name": "python3"
  },
  "language_info": {
   "codemirror_mode": {
    "name": "ipython",
    "version": 3
   },
   "file_extension": ".py",
   "mimetype": "text/x-python",
   "name": "python",
   "nbconvert_exporter": "python",
   "pygments_lexer": "ipython3",
   "version": "3.12.1"
  }
 },
 "nbformat": 4,
 "nbformat_minor": 5
}
